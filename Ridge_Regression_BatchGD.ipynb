{
  "nbformat": 4,
  "nbformat_minor": 0,
  "metadata": {
    "colab": {
      "provenance": []
    },
    "kernelspec": {
      "name": "python3",
      "display_name": "Python 3"
    },
    "language_info": {
      "name": "python"
    }
  },
  "cells": [
    {
      "cell_type": "code",
      "execution_count": null,
      "metadata": {
        "id": "Q4MCKqkBil27"
      },
      "outputs": [],
      "source": [
        "from sklearn.datasets import load_diabetes"
      ]
    },
    {
      "cell_type": "code",
      "source": [
        "from sklearn.metrics import r2_score"
      ],
      "metadata": {
        "id": "IEyigdpeEicB"
      },
      "execution_count": null,
      "outputs": []
    },
    {
      "cell_type": "code",
      "source": [
        "import numpy as np\n",
        "X,y=load_diabetes(return_X_y=True)\n",
        "\n"
      ],
      "metadata": {
        "id": "UNGgIITUEqd4"
      },
      "execution_count": null,
      "outputs": []
    },
    {
      "cell_type": "code",
      "source": [
        "from sklearn.model_selection import train_test_split\n",
        "X_train,X_test,y_train,y_test = train_test_split(X,y,test_size=0.2,random_state=4)"
      ],
      "metadata": {
        "id": "kPutbuysFBuC"
      },
      "execution_count": null,
      "outputs": []
    },
    {
      "cell_type": "code",
      "source": [
        "X_test.shape,y_test.shape"
      ],
      "metadata": {
        "colab": {
          "base_uri": "https://localhost:8080/"
        },
        "id": "T6vwPBwcFr5S",
        "outputId": "e29b0ced-60c6-4fa8-c9f9-50bb2776d06e"
      },
      "execution_count": null,
      "outputs": [
        {
          "output_type": "execute_result",
          "data": {
            "text/plain": [
              "((89, 10), (89,))"
            ]
          },
          "metadata": {},
          "execution_count": 5
        }
      ]
    },
    {
      "cell_type": "code",
      "source": [
        "X_train.shape,y_train.shape"
      ],
      "metadata": {
        "colab": {
          "base_uri": "https://localhost:8080/"
        },
        "id": "VlJ_u2edHy2D",
        "outputId": "aa4a9ebf-e531-42d4-9f66-da392abfde97"
      },
      "execution_count": null,
      "outputs": [
        {
          "output_type": "execute_result",
          "data": {
            "text/plain": [
              "((353, 10), (353,))"
            ]
          },
          "metadata": {},
          "execution_count": 6
        }
      ]
    },
    {
      "cell_type": "code",
      "source": [
        "I = np.identity(X_train.shape[1]);\n",
        "I.shape"
      ],
      "metadata": {
        "colab": {
          "base_uri": "https://localhost:8080/"
        },
        "id": "OmdJdWM8mBq0",
        "outputId": "9b0d57b9-fb68-4f68-fd50-629f6a0d39ad"
      },
      "execution_count": null,
      "outputs": [
        {
          "output_type": "execute_result",
          "data": {
            "text/plain": [
              "(10, 10)"
            ]
          },
          "metadata": {},
          "execution_count": 10
        }
      ]
    },
    {
      "cell_type": "markdown",
      "source": [
        "#Ridge Regression"
      ],
      "metadata": {
        "id": "Kj6qK_uVaSPl"
      }
    },
    {
      "cell_type": "code",
      "source": [
        "class Ridge:\n",
        "  def __init__(self,alpha=0.1):\n",
        "    self.alpha=alpha\n",
        "    self.coef=None\n",
        "    self.intercept=None\n",
        "  def fit(self,X_train,y_train):\n",
        "    #Stacking the matrix X with 1's column\n",
        "    X_train = np.insert(X_train,0,1,axis=1)\n",
        "    #identity Matrix 10 * 10\n",
        "    I = np.identity(X_train.shape[1]);\n",
        "    #(X^TX - lambda*I)^-1(X^TX)\n",
        "    result = np.linalg.inv(np.dot(X_train.T,X_train)+self.alpha * I).dot(X_train.T).dot(y_train)\n",
        "\n",
        "    self.intercept = result[0]\n",
        "    self.coef = result[1:]\n",
        "\n",
        "\n",
        "  def predict(self,X_test):\n",
        "    return np.dot(X_test,self.coef)+self.intercept"
      ],
      "metadata": {
        "id": "XAtIRjBqH1f6"
      },
      "execution_count": null,
      "outputs": []
    },
    {
      "cell_type": "code",
      "source": [
        "reg = Ridge()"
      ],
      "metadata": {
        "id": "UbimZRYepR74"
      },
      "execution_count": null,
      "outputs": []
    },
    {
      "cell_type": "code",
      "source": [
        "reg.fit(X_train,y_train)"
      ],
      "metadata": {
        "id": "ruVmstrgpVs4"
      },
      "execution_count": null,
      "outputs": []
    },
    {
      "cell_type": "code",
      "source": [
        "print(\"Coeffecient : w0 w1 w2 _ _ _ w9 \\n\",reg.coef)\n",
        "print(\"intercept : b \\n\",reg.intercept)"
      ],
      "metadata": {
        "colab": {
          "base_uri": "https://localhost:8080/"
        },
        "id": "3mdvzXAwqyUP",
        "outputId": "79e947f0-a0e9-4e5a-9b9c-694da80006f2"
      },
      "execution_count": null,
      "outputs": [
        {
          "output_type": "stream",
          "name": "stdout",
          "text": [
            "Coeffecient : w0 w1 w2 _ _ _ w9 \n",
            " [  44.04252774 -241.72019592  452.99153345  332.06044266  -76.32617866\n",
            "  -68.54884462 -165.01664054  149.93980143  431.59483654   58.54419942]\n",
            "intercept : b \n",
            " 150.84762720023167\n"
          ]
        }
      ]
    },
    {
      "cell_type": "code",
      "source": [
        "y_pred = reg.predict(X_test)\n",
        "\n"
      ],
      "metadata": {
        "id": "B3Ah-WwmpnBC"
      },
      "execution_count": null,
      "outputs": []
    },
    {
      "cell_type": "code",
      "source": [
        "print(r2_score(y_test,y_pred))"
      ],
      "metadata": {
        "colab": {
          "base_uri": "https://localhost:8080/"
        },
        "id": "sVuSIITGqovB",
        "outputId": "b0a2a977-23e5-49c4-c280-860e726c37e5"
      },
      "execution_count": null,
      "outputs": [
        {
          "output_type": "stream",
          "name": "stdout",
          "text": [
            "0.46921361559931885\n"
          ]
        }
      ]
    },
    {
      "cell_type": "markdown",
      "source": [
        "#Batch GD"
      ],
      "metadata": {
        "id": "7NQxsq-TaVsB"
      }
    },
    {
      "cell_type": "code",
      "source": [
        "from collections import defaultdict\n",
        "class GGreg:\n",
        "  def __init__(self,learning_rate,epoch=10):\n",
        "    self.lr=learning_rate\n",
        "    self.epoch=epoch\n",
        "    self.coef=None\n",
        "    self.intercept=None\n",
        "\n",
        "  def fit(self,X_train,y_train):\n",
        "    #initialization\n",
        "    self.intercept=0\n",
        "    self.coef=np.ones(X_train.shape[1])\n",
        "    print(self.coef)\n",
        "\n",
        "    for i in range(self.epoch):\n",
        "      #Intercept Update\n",
        "      y_hat = np.dot(X_train,self.coef) + self.intercept\n",
        "      intercept_dr= -2*np.mean(y_train-y_hat)\n",
        "      self.intercept = self.intercept - (self.lr * intercept_dr)\n",
        "\n",
        "      #Coef Update\n",
        "      coef_dr = -2*np.dot((y_train-y_hat),X_train)/X_train.shape[0]\n",
        "      self.coef = self.coef - (self.lr*coef_dr)\n",
        "    print(self.intercept)\n",
        "    print(self.coef)\n",
        "  def predict(self,X_test):\n",
        "    return np.dot(X_test,self.coef)+self.intercept\n"
      ],
      "metadata": {
        "id": "yCzv4O0haYNS"
      },
      "execution_count": null,
      "outputs": []
    },
    {
      "cell_type": "code",
      "source": [
        "print(X_train.shape)"
      ],
      "metadata": {
        "colab": {
          "base_uri": "https://localhost:8080/"
        },
        "id": "5oJ60juUfovN",
        "outputId": "132ca61b-2402-4944-f0f2-d0ee188c5740"
      },
      "execution_count": null,
      "outputs": [
        {
          "output_type": "stream",
          "name": "stdout",
          "text": [
            "(353, 10)\n"
          ]
        }
      ]
    },
    {
      "cell_type": "code",
      "source": [
        "bgd = GGreg(0.01,1)\n"
      ],
      "metadata": {
        "id": "DEDVM6ZvePwE"
      },
      "execution_count": null,
      "outputs": []
    },
    {
      "cell_type": "code",
      "source": [
        "bgd.fit(X_train,y_train)"
      ],
      "metadata": {
        "colab": {
          "base_uri": "https://localhost:8080/"
        },
        "id": "1Irc-cwBe6d0",
        "outputId": "d4d1c55a-b7a1-4eb9-d294-432ac0fae1da"
      },
      "execution_count": null,
      "outputs": [
        {
          "output_type": "stream",
          "name": "stdout",
          "text": [
            "[1. 1. 1. 1. 1. 1. 1. 1. 1. 1.]\n",
            "3.032670330318965\n",
            "[1.0185473  0.9980957  1.04413808 1.03769156 1.01283723 1.00784276\n",
            " 0.97109476 1.02896127 1.04197499 1.02973413]\n"
          ]
        }
      ]
    },
    {
      "cell_type": "code",
      "source": [
        "y_pred=bgd.predict(X_test)\n",
        "r2_score(y_test,y_pred)"
      ],
      "metadata": {
        "colab": {
          "base_uri": "https://localhost:8080/"
        },
        "id": "ZFOnxZk2hL5S",
        "outputId": "a0c0a517-f7d4-44a5-fb6a-d096a27b0caa"
      },
      "execution_count": null,
      "outputs": [
        {
          "output_type": "execute_result",
          "data": {
            "text/plain": [
              "-4.181702367706531"
            ]
          },
          "metadata": {},
          "execution_count": 32
        }
      ]
    }
  ]
}